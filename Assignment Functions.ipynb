{
 "cells": [
  {
   "cell_type": "code",
   "execution_count": 15,
   "id": "e7d7b501-585a-4391-82df-f44ddd0c6bde",
   "metadata": {},
   "outputs": [],
   "source": [
    "#1\n",
    "def sum(num1,num2=10,num3=None):\n",
    "    if num3 is None:\n",
    "        output=num1+num2\n",
    "        print(f\"Sum of {num1} and {num2} is {output}.\")\n",
    "    else:\n",
    "        output=num1*num2*num3\n",
    "        print(f\"Product of {num1}, {num2} and {num3} is {output}\")"
   ]
  },
  {
   "cell_type": "code",
   "execution_count": 9,
   "id": "16c9e586-03d7-4143-a65a-3845ee69fe0d",
   "metadata": {},
   "outputs": [
    {
     "name": "stdout",
     "output_type": "stream",
     "text": [
      "Sum of 15 and 10 is 25.\n"
     ]
    }
   ],
   "source": [
    "sum(15)"
   ]
  },
  {
   "cell_type": "code",
   "execution_count": 11,
   "id": "92c5d7b0-f4e1-40c4-b38a-782a423b498b",
   "metadata": {},
   "outputs": [
    {
     "name": "stdout",
     "output_type": "stream",
     "text": [
      "Sum of 20 and 37 is 57.\n"
     ]
    }
   ],
   "source": [
    "sum(20,37,None)"
   ]
  },
  {
   "cell_type": "code",
   "execution_count": 17,
   "id": "5f07aa3d-1c1c-445a-8681-a67d26269c09",
   "metadata": {},
   "outputs": [
    {
     "name": "stdout",
     "output_type": "stream",
     "text": [
      "Product of 2, 4 and 5 is 40\n"
     ]
    }
   ],
   "source": [
    "sum(2,4,5)"
   ]
  },
  {
   "cell_type": "code",
   "execution_count": 19,
   "id": "880cdb32-bb45-4696-9b73-c6026ee480ab",
   "metadata": {},
   "outputs": [
    {
     "name": "stdout",
     "output_type": "stream",
     "text": [
      "['television', 'mobile', 'fruits']\n"
     ]
    }
   ],
   "source": [
    "#2\n",
    "def string(strings):\n",
    "    return[s for s in strings if len(s)>=5]\n",
    "string1=[\"car\",\"television\",\"mobile\",\"fruits\"]\n",
    "result=string(string1)\n",
    "print(result)"
   ]
  },
  {
   "cell_type": "code",
   "execution_count": 21,
   "id": "bbfb1771-de4c-4f15-8c15-22daa2fcbb8d",
   "metadata": {},
   "outputs": [],
   "source": [
    "#3\n",
    "def evaluate_expression(expression):\n",
    "    try:\n",
    "        result=eval(expression)\n",
    "        print(f\"The result of the expression '{expression}' is:{result}\")\n",
    "    except Exception as e:\n",
    "        print(f\"Error evaluating expression:{e}\")"
   ]
  },
  {
   "cell_type": "code",
   "execution_count": 27,
   "id": "624a9d83-e5a6-4f7a-8f26-902ad8b17575",
   "metadata": {},
   "outputs": [
    {
     "name": "stdout",
     "output_type": "stream",
     "text": [
      "The result of the expression '3 * 5 + 2' is:17\n"
     ]
    }
   ],
   "source": [
    "expression=\"3 * 5 + 2\"\n",
    "evaluate_expression(expression)"
   ]
  },
  {
   "cell_type": "code",
   "execution_count": 41,
   "id": "870d3c0d-3e58-4395-8afd-dd0251634100",
   "metadata": {},
   "outputs": [],
   "source": [
    "#4\n",
    "def prime(n):\n",
    "    if n<=1:\n",
    "        return False\n",
    "    for i in range(2, int(n**0.5)+1):\n",
    "        if n % i == 0:\n",
    "            return False\n",
    "    return True\n",
    "def filter_prime(numbers):\n",
    "    return list(filter(prime,numbers))"
   ]
  },
  {
   "cell_type": "code",
   "execution_count": 43,
   "id": "43394593-3601-4fc2-91a5-4a53676dcd32",
   "metadata": {},
   "outputs": [
    {
     "name": "stdout",
     "output_type": "stream",
     "text": [
      "Prime numers:[2, 3, 11, 13, 17, 7]\n"
     ]
    }
   ],
   "source": [
    "numbers=[1,2,3,4,10,11,13,14,15,17,7,9]\n",
    "prime_numbers=filter_prime(numbers)\n",
    "print(f\"Prime numers:{prime_numbers}\")"
   ]
  },
  {
   "cell_type": "code",
   "execution_count": 45,
   "id": "7294d36a-c79c-4c41-9ad1-26e5164d4740",
   "metadata": {},
   "outputs": [
    {
     "name": "stdout",
     "output_type": "stream",
     "text": [
      "['TEN', 'TWELVE', 'ONE', 'TWO']\n"
     ]
    }
   ],
   "source": [
    "#5\n",
    "def convert_uppercase(strings):\n",
    "    return list(map(str.upper,strings))\n",
    "strings=[\"ten\",\"twelve\",\"one\",\"two\"]\n",
    "upper_case=convert_uppercase(strings)\n",
    "print(upper_case)"
   ]
  },
  {
   "cell_type": "code",
   "execution_count": 49,
   "id": "9f02c005-b3ef-4463-ac21-f913a416f68f",
   "metadata": {},
   "outputs": [
    {
     "name": "stdout",
     "output_type": "stream",
     "text": [
      "[3, 10, 6, 6]\n"
     ]
    }
   ],
   "source": [
    "#6\n",
    "def calculate_length(strings):\n",
    "    return list(map(len,strings))\n",
    "strings=[\"car\",\"television\",\"mobile\",\"fruits\"]\n",
    "lengths=calculate_length(strings)\n",
    "print(lengths)"
   ]
  },
  {
   "cell_type": "code",
   "execution_count": 53,
   "id": "f94bcc38-d4aa-43b1-b762-a718ff5ba770",
   "metadata": {},
   "outputs": [
    {
     "name": "stdout",
     "output_type": "stream",
     "text": [
      "The sum of the list is 21.\n"
     ]
    }
   ],
   "source": [
    "#7\n",
    "from functools import reduce\n",
    "def calculate_sum(numbers):\n",
    "    return reduce(lambda x,y:x+y,numbers)\n",
    "numbers=[1,2,3,4,5,6]\n",
    "total_sum=calculate_sum(numbers)\n",
    "print(f\"The sum of the list is {total_sum}.\")"
   ]
  },
  {
   "cell_type": "code",
   "execution_count": 55,
   "id": "29e9d3c6-fd83-4772-96ce-20b09bedfe43",
   "metadata": {},
   "outputs": [
    {
     "name": "stdout",
     "output_type": "stream",
     "text": [
      "The maximum of the list is 15\n"
     ]
    }
   ],
   "source": [
    "#8\n",
    "from functools import reduce\n",
    "def max_number(numbers):\n",
    "    return reduce(lambda x,y:x if x>y else y, numbers)\n",
    "numbers=[1,4,6,3,12,2,15]\n",
    "maximum=max_number(numbers)\n",
    "print(f\"The maximum of the list is {maximum}\")"
   ]
  },
  {
   "cell_type": "code",
   "execution_count": null,
   "id": "9efeedae-5948-4f7f-85c7-e8fbd7148cb1",
   "metadata": {},
   "outputs": [],
   "source": []
  }
 ],
 "metadata": {
  "kernelspec": {
   "display_name": "Python 3 (ipykernel)",
   "language": "python",
   "name": "python3"
  },
  "language_info": {
   "codemirror_mode": {
    "name": "ipython",
    "version": 3
   },
   "file_extension": ".py",
   "mimetype": "text/x-python",
   "name": "python",
   "nbconvert_exporter": "python",
   "pygments_lexer": "ipython3",
   "version": "3.12.4"
  }
 },
 "nbformat": 4,
 "nbformat_minor": 5
}
